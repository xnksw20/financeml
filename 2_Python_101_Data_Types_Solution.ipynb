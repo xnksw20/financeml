{
  "nbformat": 4,
  "nbformat_minor": 0,
  "metadata": {
    "colab": {
      "name": "2. Python 101 - Data Types - Solution.ipynb",
      "provenance": [],
      "collapsed_sections": []
    },
    "kernelspec": {
      "name": "python3",
      "display_name": "Python 3"
    }
  },
  "cells": [
    {
      "cell_type": "markdown",
      "metadata": {
        "id": "jAvAN1PiB8bc"
      },
      "source": [
        "# 1. BOOLEANS"
      ]
    },
    {
      "cell_type": "code",
      "metadata": {
        "id": "nQxJN0ShB_Ae",
        "colab": {
          "base_uri": "https://localhost:8080/"
        },
        "outputId": "ea638b42-ab20-4b81-ff97-e2d75f5558f8"
      },
      "source": [
        "# Boolean values can be represented as one of two constant objects \"False\" and \"True\". \n",
        "# Booleans behave like integers 0 and 1.\n",
        "True"
      ],
      "execution_count": null,
      "outputs": [
        {
          "output_type": "execute_result",
          "data": {
            "text/plain": [
              "True"
            ]
          },
          "metadata": {},
          "execution_count": 1
        }
      ]
    },
    {
      "cell_type": "code",
      "metadata": {
        "id": "MWOLRKg-B_D6",
        "colab": {
          "base_uri": "https://localhost:8080/"
        },
        "outputId": "81e75fbd-90e7-4644-96c2-12c69bc31031"
      },
      "source": [
        "False"
      ],
      "execution_count": null,
      "outputs": [
        {
          "output_type": "execute_result",
          "data": {
            "text/plain": [
              "False"
            ]
          },
          "metadata": {},
          "execution_count": 2
        }
      ]
    },
    {
      "cell_type": "code",
      "metadata": {
        "id": "oDfoK28ZB_SO",
        "colab": {
          "base_uri": "https://localhost:8080/"
        },
        "outputId": "5bd574a4-a11a-4428-90df-fc8c3eaf4c9b"
      },
      "source": [
        "stock_1_price = 100\n",
        "stock_2_price = 200\n",
        "print(stock_1_price == stock_2_price)"
      ],
      "execution_count": null,
      "outputs": [
        {
          "output_type": "stream",
          "name": "stdout",
          "text": [
            "False\n"
          ]
        }
      ]
    },
    {
      "cell_type": "markdown",
      "metadata": {
        "id": "zK3GTZaCFwNt"
      },
      "source": [
        "**MINI CHALLENGE #1:** \n",
        "- **What will this code generate?**\n",
        "```\n",
        "stock_1_price = 20\n",
        "stock_2_price = 30\n",
        "print((stock_1_price < stock_2_price))\n",
        "print(stock_1_price == stock_2_price)\n",
        "```"
      ]
    },
    {
      "cell_type": "code",
      "metadata": {
        "id": "Fk7waP-xUtan",
        "colab": {
          "base_uri": "https://localhost:8080/"
        },
        "outputId": "a5932d2a-6ca8-4dbf-f4e1-1f04485d3f7f"
      },
      "source": [
        "stock_1_price = 20\n",
        "stock_2_price = 30\n",
        "print((stock_1_price < stock_2_price))\n",
        "print(stock_1_price == stock_2_price)"
      ],
      "execution_count": null,
      "outputs": [
        {
          "output_type": "stream",
          "name": "stdout",
          "text": [
            "True\n",
            "False\n"
          ]
        }
      ]
    },
    {
      "cell_type": "markdown",
      "metadata": {
        "id": "_5r-dUNX7nfy"
      },
      "source": [
        "# 2. LIST"
      ]
    },
    {
      "cell_type": "code",
      "metadata": {
        "id": "F27HZd8a60zD",
        "colab": {
          "base_uri": "https://localhost:8080/"
        },
        "outputId": "9d0ee092-6a87-416e-d432-69bdaeffbdc5"
      },
      "source": [
        "# A list is a collection which is ordered and changeable. \n",
        "# List allows duplicate members.\n",
        "my_list = [1, 2, 3]\n",
        "my_list"
      ],
      "execution_count": null,
      "outputs": [
        {
          "output_type": "execute_result",
          "data": {
            "text/plain": [
              "[1, 2, 3]"
            ]
          },
          "metadata": {},
          "execution_count": 5
        }
      ]
    },
    {
      "cell_type": "code",
      "metadata": {
        "id": "AeHE6akU70RX",
        "colab": {
          "base_uri": "https://localhost:8080/"
        },
        "outputId": "4224aed5-2239-4b2e-dd8a-560a07eb3258"
      },
      "source": [
        "# Obtain the datatype\n",
        "type(my_list)"
      ],
      "execution_count": null,
      "outputs": [
        {
          "output_type": "execute_result",
          "data": {
            "text/plain": [
              "list"
            ]
          },
          "metadata": {},
          "execution_count": 6
        }
      ]
    },
    {
      "cell_type": "code",
      "metadata": {
        "id": "qaiXmQs570Vv",
        "colab": {
          "base_uri": "https://localhost:8080/"
        },
        "outputId": "9b364118-c24f-4261-faa5-2d6f5321bdbc"
      },
      "source": [
        "# list with mixed datatypes (for example you can have strings and integers in one list)\n",
        "my_list = [2, \"GOOG\", 5]\n",
        "my_list"
      ],
      "execution_count": null,
      "outputs": [
        {
          "output_type": "execute_result",
          "data": {
            "text/plain": [
              "[2, 'GOOG', 5]"
            ]
          },
          "metadata": {},
          "execution_count": 7
        }
      ]
    },
    {
      "cell_type": "code",
      "metadata": {
        "id": "PNJjE3qX70YR",
        "colab": {
          "base_uri": "https://localhost:8080/"
        },
        "outputId": "513bcde3-ad5a-4424-9783-62fbaf98b54f"
      },
      "source": [
        "# You can have a list inside another list (nested list)\n",
        "my_list = [\"GOOG\", [3, 6, 7]]\n",
        "my_list"
      ],
      "execution_count": null,
      "outputs": [
        {
          "output_type": "execute_result",
          "data": {
            "text/plain": [
              "['GOOG', [3, 6, 7]]"
            ]
          },
          "metadata": {},
          "execution_count": 8
        }
      ]
    },
    {
      "cell_type": "code",
      "metadata": {
        "id": "XZZiMb2c70f6",
        "colab": {
          "base_uri": "https://localhost:8080/",
          "height": 35
        },
        "outputId": "ac39b9d8-754a-4477-a883-3e65d6ea526c"
      },
      "source": [
        "# Access specific elements in the list with Indexing\n",
        "# Note that the first element in the list has an index of 0 (little confusing but you'll get used to it!)\n",
        "my_list = [2, \"GOOG\", 5]\n",
        "my_list[1]"
      ],
      "execution_count": null,
      "outputs": [
        {
          "output_type": "execute_result",
          "data": {
            "application/vnd.google.colaboratory.intrinsic+json": {
              "type": "string"
            },
            "text/plain": [
              "'GOOG'"
            ]
          },
          "metadata": {},
          "execution_count": 9
        }
      ]
    },
    {
      "cell_type": "code",
      "metadata": {
        "id": "I6z3Ls6R70iU",
        "colab": {
          "base_uri": "https://localhost:8080/",
          "height": 35
        },
        "outputId": "f9d9443d-cb26-4e40-a713-aae51913f5a3"
      },
      "source": [
        "# indexing for nested lists\n",
        "my_list = [\"GOOG\", [3, 6, 7], [\"APPL\", 5, 6]]\n",
        "my_list[2][0]\n"
      ],
      "execution_count": null,
      "outputs": [
        {
          "output_type": "execute_result",
          "data": {
            "application/vnd.google.colaboratory.intrinsic+json": {
              "type": "string"
            },
            "text/plain": [
              "'APPL'"
            ]
          },
          "metadata": {},
          "execution_count": 10
        }
      ]
    },
    {
      "cell_type": "code",
      "metadata": {
        "id": "5Bx9hZPc70o4",
        "colab": {
          "base_uri": "https://localhost:8080/"
        },
        "outputId": "b93a50db-b0ed-4568-90c1-e06e8244296b"
      },
      "source": [
        "print(my_list[1][1])"
      ],
      "execution_count": null,
      "outputs": [
        {
          "output_type": "stream",
          "name": "stdout",
          "text": [
            "6\n"
          ]
        }
      ]
    },
    {
      "cell_type": "code",
      "metadata": {
        "id": "hEHd__Zr70nj",
        "colab": {
          "base_uri": "https://localhost:8080/"
        },
        "outputId": "04f568c8-f6f8-4600-c6b1-4238d1373102"
      },
      "source": [
        "print(my_list[2])"
      ],
      "execution_count": null,
      "outputs": [
        {
          "output_type": "stream",
          "name": "stdout",
          "text": [
            "['APPL', 5, 6]\n"
          ]
        }
      ]
    },
    {
      "cell_type": "code",
      "metadata": {
        "id": "4KVMQSCO70lg",
        "colab": {
          "base_uri": "https://localhost:8080/"
        },
        "outputId": "e66f38e8-fdca-4877-b790-a46c00eb10ef"
      },
      "source": [
        "# Negative Indexing\n",
        "my_list = [2, \"GOOG\", 5]\n",
        "print(my_list[-2])\n"
      ],
      "execution_count": null,
      "outputs": [
        {
          "output_type": "stream",
          "name": "stdout",
          "text": [
            "GOOG\n"
          ]
        }
      ]
    },
    {
      "cell_type": "code",
      "metadata": {
        "id": "-Bw1wI_h70dw",
        "colab": {
          "base_uri": "https://localhost:8080/"
        },
        "outputId": "2e8597f4-e0b9-49f5-ca2b-d456525db071"
      },
      "source": [
        "# List Slicing (getting more than one element from a list) \n",
        "my_list = [2, 5, 7, \"GOOG\", \"SP500\", \"AMZN\", 15]\n",
        "\n",
        "# obtain elements starting from index 3 up to and not including element with index 6  \n",
        "print(my_list[3:6])"
      ],
      "execution_count": null,
      "outputs": [
        {
          "output_type": "stream",
          "name": "stdout",
          "text": [
            "['GOOG', 'SP500', 'AMZN']\n"
          ]
        }
      ]
    },
    {
      "cell_type": "code",
      "metadata": {
        "id": "VGsNNIpn9ILB",
        "colab": {
          "base_uri": "https://localhost:8080/"
        },
        "outputId": "8815d8c3-e9a6-47da-b531-871b06ae4b94"
      },
      "source": [
        "# Obtain elements starting from index 3 to end\n",
        "print(my_list[3:])"
      ],
      "execution_count": null,
      "outputs": [
        {
          "output_type": "stream",
          "name": "stdout",
          "text": [
            "['GOOG', 'SP500', 'AMZN', 15]\n"
          ]
        }
      ]
    },
    {
      "cell_type": "code",
      "metadata": {
        "id": "W0Z8oCAC9IJL",
        "colab": {
          "base_uri": "https://localhost:8080/"
        },
        "outputId": "6ea60c04-e3a4-4e4c-9109-ecdf475b76cc"
      },
      "source": [
        "# All elements start to end\n",
        "print(my_list[:])\n",
        "print(my_list)"
      ],
      "execution_count": null,
      "outputs": [
        {
          "output_type": "stream",
          "name": "stdout",
          "text": [
            "[2, 5, 7, 'GOOG', 'SP500', 'AMZN', 15]\n",
            "[2, 5, 7, 'GOOG', 'SP500', 'AMZN', 15]\n"
          ]
        }
      ]
    },
    {
      "cell_type": "code",
      "metadata": {
        "id": "Z4sY6MEJ9IGv",
        "colab": {
          "base_uri": "https://localhost:8080/"
        },
        "outputId": "07fce0b4-2ceb-4ca5-fb8c-22d92dcd082f"
      },
      "source": [
        "# Obtain the length of the list (how many elements in the list) \n",
        "len(my_list)"
      ],
      "execution_count": null,
      "outputs": [
        {
          "output_type": "execute_result",
          "data": {
            "text/plain": [
              "7"
            ]
          },
          "metadata": {},
          "execution_count": 17
        }
      ]
    },
    {
      "cell_type": "markdown",
      "metadata": {
        "id": "Q1qcVBl7G1GO"
      },
      "source": [
        "**MINI CHALLENGE #2:**\n",
        "- **Print the first, second and last element in the list below**\n",
        "- **Print all elements in the list, first 3 elements, and last three elements**\n",
        "\n",
        "```\n",
        "stocks = [\"GOOG\", \"TSLA\", \"AAPL\", \"T\", \"SP500\", \"BTC\", \"EUR/USD\"]\n",
        "```\n",
        "\n"
      ]
    },
    {
      "cell_type": "code",
      "metadata": {
        "id": "adQzmLx7Y7p7"
      },
      "source": [
        "\n",
        "stocks = [\"GOOG\", \"TSLA\", \"AAPL\", \"T\", \"SP500\", \"BTC\", \"EUR/USD\"]"
      ],
      "execution_count": null,
      "outputs": []
    },
    {
      "cell_type": "code",
      "metadata": {
        "id": "h6d11Zm_qy-6",
        "colab": {
          "base_uri": "https://localhost:8080/"
        },
        "outputId": "5e4b93ab-ec02-44aa-fafa-7f23a7c8b783"
      },
      "source": [
        "print(stocks[0])\n",
        "print(stocks[1])\n",
        "print(stocks[-1])"
      ],
      "execution_count": null,
      "outputs": [
        {
          "output_type": "stream",
          "name": "stdout",
          "text": [
            "GOOG\n",
            "TSLA\n",
            "EUR/USD\n"
          ]
        }
      ]
    },
    {
      "cell_type": "code",
      "metadata": {
        "id": "bogSWlLdq_Ou",
        "colab": {
          "base_uri": "https://localhost:8080/"
        },
        "outputId": "aa72277b-81c7-4da5-a30a-aeebe64bca85"
      },
      "source": [
        "# Print all elements in the list, first 3 elements, and last three elements\n",
        "print(stocks)\n",
        "print(stocks[:3])\n",
        "print(stocks[-3:])"
      ],
      "execution_count": null,
      "outputs": [
        {
          "output_type": "stream",
          "name": "stdout",
          "text": [
            "['GOOG', 'TSLA', 'AAPL', 'T', 'SP500', 'BTC', 'EUR/USD']\n",
            "['GOOG', 'TSLA', 'AAPL']\n",
            "['SP500', 'BTC', 'EUR/USD']\n"
          ]
        }
      ]
    },
    {
      "cell_type": "markdown",
      "metadata": {
        "id": "pqPdr6RNINsf"
      },
      "source": [
        "**MINI CHALLENGE #3:** \n",
        "- **Print GOOG**\n",
        "- **Print AAPL, GOOG, TSLA** \n",
        "- **Print T with two different ways**\n",
        "\n",
        "```\n",
        "my_list = [\"SP500\", [\"AAPL\", \"GOOG\", \"TSLA\"], \"BTC\", \"T\"]\n",
        "```\n"
      ]
    },
    {
      "cell_type": "code",
      "metadata": {
        "id": "LKBrnoODr3ky"
      },
      "source": [
        "my_list = [\"SP500\", [\"AAPL\", \"GOOG\", \"TSLA\"], \"BTC\", \"T\"]"
      ],
      "execution_count": null,
      "outputs": []
    },
    {
      "cell_type": "code",
      "metadata": {
        "colab": {
          "base_uri": "https://localhost:8080/"
        },
        "id": "QDToyBDrr7AB",
        "outputId": "4d530478-bf6d-42a1-acc7-4186644f37ad"
      },
      "source": [
        "print(my_list[1][1])"
      ],
      "execution_count": null,
      "outputs": [
        {
          "output_type": "stream",
          "name": "stdout",
          "text": [
            "GOOG\n"
          ]
        }
      ]
    },
    {
      "cell_type": "code",
      "metadata": {
        "colab": {
          "base_uri": "https://localhost:8080/"
        },
        "id": "ICffuSPDr63H",
        "outputId": "deaf07ad-4644-4783-9275-db5a1dba02e2"
      },
      "source": [
        "print(my_list[1])"
      ],
      "execution_count": null,
      "outputs": [
        {
          "output_type": "stream",
          "name": "stdout",
          "text": [
            "['AAPL', 'GOOG', 'TSLA']\n"
          ]
        }
      ]
    },
    {
      "cell_type": "code",
      "metadata": {
        "colab": {
          "base_uri": "https://localhost:8080/"
        },
        "id": "pij5REwXsQgy",
        "outputId": "b1c9e594-c9df-4a9f-f5fa-2713cd2a3f34"
      },
      "source": [
        "print(my_list[3])\n",
        "print(my_list[-1])"
      ],
      "execution_count": null,
      "outputs": [
        {
          "output_type": "stream",
          "name": "stdout",
          "text": [
            "T\n",
            "T\n"
          ]
        }
      ]
    },
    {
      "cell_type": "markdown",
      "metadata": {
        "id": "7a2j5iF8CYCU"
      },
      "source": [
        "# 3. DICTIONARY"
      ]
    },
    {
      "cell_type": "code",
      "metadata": {
        "id": "RrxN16VRCbyz"
      },
      "source": [
        "# my_dict = {'key1':'value1', 'key2':'value2', 'key3':'value3'}\n",
        "# Dictionary consists of a collection of key-value pairs. Each key-value pair maps the key to its corresponding value.\n",
        "# Keys are unique within a dictionary while values may not be. \n",
        "# List elements are accessed by their position in the list, via indexing while Dictionary elements are accessed via keys\n",
        "\n",
        "# Define a dictionary using key-value pairs\n",
        "my_dict = {'key1':'value1',\n",
        "           'key2':'value2', \n",
        "           'key3':'value3'}"
      ],
      "execution_count": null,
      "outputs": []
    },
    {
      "cell_type": "code",
      "metadata": {
        "id": "dToa9hHWCcO5",
        "colab": {
          "base_uri": "https://localhost:8080/"
        },
        "outputId": "8c13981b-2df9-423b-846c-61ab62000dfd"
      },
      "source": [
        "# View the dictionary\n",
        "my_dict"
      ],
      "execution_count": null,
      "outputs": [
        {
          "output_type": "execute_result",
          "data": {
            "text/plain": [
              "{'key1': 'value1', 'key2': 'value2', 'key3': 'value3'}"
            ]
          },
          "metadata": {},
          "execution_count": 31
        }
      ]
    },
    {
      "cell_type": "code",
      "metadata": {
        "id": "KczBnCdmCcA5",
        "colab": {
          "base_uri": "https://localhost:8080/"
        },
        "outputId": "3b7d60f9-4027-48aa-9b0d-d102d707daf3"
      },
      "source": [
        "# Check the data type\n",
        "type(my_dict)"
      ],
      "execution_count": null,
      "outputs": [
        {
          "output_type": "execute_result",
          "data": {
            "text/plain": [
              "dict"
            ]
          },
          "metadata": {},
          "execution_count": 32
        }
      ]
    },
    {
      "cell_type": "code",
      "metadata": {
        "id": "dThsTYeaCb-l",
        "colab": {
          "base_uri": "https://localhost:8080/",
          "height": 35
        },
        "outputId": "b7772108-71ae-499d-e9ef-53977a63aff9"
      },
      "source": [
        "# Access specific element in the dictionary using a specific key (ex: Key2)\n",
        "my_dict['key2']"
      ],
      "execution_count": null,
      "outputs": [
        {
          "output_type": "execute_result",
          "data": {
            "application/vnd.google.colaboratory.intrinsic+json": {
              "type": "string"
            },
            "text/plain": [
              "'value2'"
            ]
          },
          "metadata": {},
          "execution_count": 33
        }
      ]
    },
    {
      "cell_type": "code",
      "metadata": {
        "id": "Li70lw0jCb87",
        "colab": {
          "base_uri": "https://localhost:8080/"
        },
        "outputId": "e1faa1ad-603e-4413-bc55-34d763f6f64a"
      },
      "source": [
        "# Define a dictionary for a bank client listing all his/her assets! \n",
        "client_assets = {\"Real estate\": 150000,\n",
        "                 \"stocks\": 10000,\n",
        "                 \"savings\": 20000}\n",
        "\n",
        "print(client_assets)"
      ],
      "execution_count": null,
      "outputs": [
        {
          "output_type": "stream",
          "name": "stdout",
          "text": [
            "{'Real estate': 150000, 'stocks': 10000, 'savings': 20000}\n"
          ]
        }
      ]
    },
    {
      "cell_type": "code",
      "metadata": {
        "id": "G_I_rJsWCb6E",
        "colab": {
          "base_uri": "https://localhost:8080/"
        },
        "outputId": "1f882adf-c9bd-432a-871c-e29d72117fbc"
      },
      "source": [
        "# Access elements in the dictionary\n",
        "client_assets[\"stocks\"]"
      ],
      "execution_count": null,
      "outputs": [
        {
          "output_type": "execute_result",
          "data": {
            "text/plain": [
              "10000"
            ]
          },
          "metadata": {},
          "execution_count": 35
        }
      ]
    },
    {
      "cell_type": "code",
      "metadata": {
        "id": "1DigIhEQCb3x",
        "colab": {
          "base_uri": "https://localhost:8080/"
        },
        "outputId": "e7a2e29d-421b-459b-9546-a530287ac78d"
      },
      "source": [
        "# Add a new item to an existing dictionary\n",
        "client_assets[\"Crypto\"] = 1500\n",
        "print(client_assets)"
      ],
      "execution_count": null,
      "outputs": [
        {
          "output_type": "stream",
          "name": "stdout",
          "text": [
            "{'Real estate': 150000, 'stocks': 10000, 'savings': 20000, 'Crypto': 1500}\n"
          ]
        }
      ]
    },
    {
      "cell_type": "code",
      "metadata": {
        "id": "m05N8LIiCb0_",
        "colab": {
          "base_uri": "https://localhost:8080/"
        },
        "outputId": "7f7f5b30-b151-45e7-d241-bccd208a5a91"
      },
      "source": [
        "# remove an item from the dictionary\n",
        "del client_assets[\"savings\"]\n",
        "print(client_assets)"
      ],
      "execution_count": null,
      "outputs": [
        {
          "output_type": "stream",
          "name": "stdout",
          "text": [
            "{'Real estate': 150000, 'stocks': 10000, 'Crypto': 1500}\n"
          ]
        }
      ]
    },
    {
      "cell_type": "code",
      "metadata": {
        "id": "c4GKclEzCoMe",
        "colab": {
          "base_uri": "https://localhost:8080/",
          "height": 197
        },
        "outputId": "c415bea9-3af7-4ad5-dde4-6f7c88b6fbbb"
      },
      "source": [
        "# delete the entire dictionary\n",
        "# Note that you cannot print it out again because the entire dictionary has been deleted\n",
        "del client_assets\n",
        "print(client_assets)"
      ],
      "execution_count": null,
      "outputs": [
        {
          "output_type": "error",
          "ename": "NameError",
          "evalue": "ignored",
          "traceback": [
            "\u001b[0;31m---------------------------------------------------------------------------\u001b[0m",
            "\u001b[0;31mNameError\u001b[0m                                 Traceback (most recent call last)",
            "\u001b[0;32m<ipython-input-38-2501f97ee81a>\u001b[0m in \u001b[0;36m<module>\u001b[0;34m()\u001b[0m\n\u001b[1;32m      2\u001b[0m \u001b[0;31m# Note that you cannot print it out again because the entire dictionary has been deleted\u001b[0m\u001b[0;34m\u001b[0m\u001b[0;34m\u001b[0m\u001b[0;34m\u001b[0m\u001b[0m\n\u001b[1;32m      3\u001b[0m \u001b[0;32mdel\u001b[0m \u001b[0mclient_assets\u001b[0m\u001b[0;34m\u001b[0m\u001b[0;34m\u001b[0m\u001b[0m\n\u001b[0;32m----> 4\u001b[0;31m \u001b[0mprint\u001b[0m\u001b[0;34m(\u001b[0m\u001b[0mclient_assets\u001b[0m\u001b[0;34m)\u001b[0m\u001b[0;34m\u001b[0m\u001b[0;34m\u001b[0m\u001b[0m\n\u001b[0m",
            "\u001b[0;31mNameError\u001b[0m: name 'client_assets' is not defined"
          ]
        }
      ]
    },
    {
      "cell_type": "markdown",
      "metadata": {
        "id": "9llozT9XLiqI"
      },
      "source": [
        "**MINI CHALLENGE #4:**\n",
        "- **Create a dictionary with 3 of your favourite stocks and their prices** \n"
      ]
    },
    {
      "cell_type": "code",
      "metadata": {
        "id": "KHOBUBNeKDXr"
      },
      "source": [
        "my_stocks = {\"AAPL\" : 270 ,'FB' : 300 ,'TESLA':1000}"
      ],
      "execution_count": null,
      "outputs": []
    },
    {
      "cell_type": "code",
      "metadata": {
        "colab": {
          "base_uri": "https://localhost:8080/"
        },
        "id": "TXvLR5SgtVTp",
        "outputId": "284c9a7c-1834-4251-b55a-39b177b5ab66"
      },
      "source": [
        "print(my_stocks)"
      ],
      "execution_count": null,
      "outputs": [
        {
          "output_type": "stream",
          "name": "stdout",
          "text": [
            "{'AAPL': 270, 'FB': 300, 'TESLA': 1000}\n"
          ]
        }
      ]
    },
    {
      "cell_type": "markdown",
      "metadata": {
        "id": "6kLIKQOZ6rNe"
      },
      "source": [
        "# 4. STRINGS"
      ]
    },
    {
      "cell_type": "code",
      "metadata": {
        "id": "rDjVcbLd6xJf",
        "colab": {
          "base_uri": "https://localhost:8080/",
          "height": 35
        },
        "outputId": "c04a963e-13ca-4433-d5e9-ab6fd20831dc"
      },
      "source": [
        "# A string in Python is a sequence of characters\n",
        "# String can be enclosed by either double or single quotes\n",
        "my_string = \"Hello Everyone and Welcome to Python for finance course!\"\n",
        "my_string"
      ],
      "execution_count": null,
      "outputs": [
        {
          "output_type": "execute_result",
          "data": {
            "application/vnd.google.colaboratory.intrinsic+json": {
              "type": "string"
            },
            "text/plain": [
              "'Hello Everyone and Welcome to Python for finance course!'"
            ]
          },
          "metadata": {},
          "execution_count": 41
        }
      ]
    },
    {
      "cell_type": "code",
      "metadata": {
        "id": "_UN8zNOJ60ud",
        "colab": {
          "base_uri": "https://localhost:8080/"
        },
        "outputId": "a23916c4-4da9-45d9-ac34-3d679d0cab26"
      },
      "source": [
        "# Obtain the datatype\n",
        "type(my_string)"
      ],
      "execution_count": null,
      "outputs": [
        {
          "output_type": "execute_result",
          "data": {
            "text/plain": [
              "str"
            ]
          },
          "metadata": {},
          "execution_count": 42
        }
      ]
    },
    {
      "cell_type": "code",
      "metadata": {
        "id": "2r3aHdjn60wz",
        "colab": {
          "base_uri": "https://localhost:8080/",
          "height": 35
        },
        "outputId": "cdae7460-2880-4b16-c5a8-6b8c1a747280"
      },
      "source": [
        "# Combining two strings together (Let's combine the first and last name of a bank's client)\n",
        "first_name = \"Laila\" \n",
        "last_name = \"Aly\"\n",
        "full_name = first_name + last_name\n",
        "full_name"
      ],
      "execution_count": null,
      "outputs": [
        {
          "output_type": "execute_result",
          "data": {
            "application/vnd.google.colaboratory.intrinsic+json": {
              "type": "string"
            },
            "text/plain": [
              "'LailaAly'"
            ]
          },
          "metadata": {},
          "execution_count": 43
        }
      ]
    },
    {
      "cell_type": "code",
      "metadata": {
        "id": "8DZ5JbeX601H",
        "colab": {
          "base_uri": "https://localhost:8080/",
          "height": 35
        },
        "outputId": "7c6ad883-2dd1-4831-aa67-0b306c353443"
      },
      "source": [
        "# You can combine both strings together and add spaces in between\n",
        "full_name = first_name + \" \" + last_name\n",
        "full_name"
      ],
      "execution_count": null,
      "outputs": [
        {
          "output_type": "execute_result",
          "data": {
            "application/vnd.google.colaboratory.intrinsic+json": {
              "type": "string"
            },
            "text/plain": [
              "'Laila Aly'"
            ]
          },
          "metadata": {},
          "execution_count": 44
        }
      ]
    },
    {
      "cell_type": "code",
      "metadata": {
        "id": "zOIOaPKf603q",
        "colab": {
          "base_uri": "https://localhost:8080/",
          "height": 35
        },
        "outputId": "b36c30dc-6f10-44f2-d14d-1dfa25889b73"
      },
      "source": [
        "# Methods on strings \n",
        "# upper will be used to convert the string into upper case\n",
        "my_string.upper()"
      ],
      "execution_count": null,
      "outputs": [
        {
          "output_type": "execute_result",
          "data": {
            "application/vnd.google.colaboratory.intrinsic+json": {
              "type": "string"
            },
            "text/plain": [
              "'HELLO EVERYONE AND WELCOME TO PYTHON FOR FINANCE COURSE!'"
            ]
          },
          "metadata": {},
          "execution_count": 45
        }
      ]
    },
    {
      "cell_type": "code",
      "metadata": {
        "id": "cX2lIPy-606m",
        "colab": {
          "base_uri": "https://localhost:8080/"
        },
        "outputId": "ec64ff37-dc57-44f0-d206-e006e053cd09"
      },
      "source": [
        "# Split us used to divide up the string into words \n",
        "# The output from split is a list\n",
        "x = my_string.split()\n",
        "x"
      ],
      "execution_count": null,
      "outputs": [
        {
          "output_type": "execute_result",
          "data": {
            "text/plain": [
              "['Hello',\n",
              " 'Everyone',\n",
              " 'and',\n",
              " 'Welcome',\n",
              " 'to',\n",
              " 'Python',\n",
              " 'for',\n",
              " 'finance',\n",
              " 'course!']"
            ]
          },
          "metadata": {},
          "execution_count": 46
        }
      ]
    },
    {
      "cell_type": "code",
      "metadata": {
        "id": "sL0bYlxv8PLN",
        "colab": {
          "base_uri": "https://localhost:8080/"
        },
        "outputId": "66e36a23-458c-4efb-bfd4-486efe9ac89b"
      },
      "source": [
        "# Let's check that the datatype is list!\n",
        "type(x)"
      ],
      "execution_count": null,
      "outputs": [
        {
          "output_type": "execute_result",
          "data": {
            "text/plain": [
              "list"
            ]
          },
          "metadata": {},
          "execution_count": 47
        }
      ]
    },
    {
      "cell_type": "code",
      "metadata": {
        "id": "sMlID0mv8Udk",
        "colab": {
          "base_uri": "https://localhost:8080/",
          "height": 35
        },
        "outputId": "fe35fde4-447c-4a23-ad7e-231e315154ba"
      },
      "source": [
        "# you can index any element in the list using indexing\n",
        "x[1]"
      ],
      "execution_count": null,
      "outputs": [
        {
          "output_type": "execute_result",
          "data": {
            "application/vnd.google.colaboratory.intrinsic+json": {
              "type": "string"
            },
            "text/plain": [
              "'Everyone'"
            ]
          },
          "metadata": {},
          "execution_count": 48
        }
      ]
    },
    {
      "cell_type": "code",
      "metadata": {
        "id": "icNCEq2x609e",
        "colab": {
          "base_uri": "https://localhost:8080/"
        },
        "outputId": "d266e0fd-ff2f-40ea-d22f-5926252eb3c9"
      },
      "source": [
        "# you can specify which letter could be choosed to perform the split\n",
        "my_string = 'laila.aly@gmail.com'\n",
        "z = my_string.split('@')\n",
        "z"
      ],
      "execution_count": null,
      "outputs": [
        {
          "output_type": "execute_result",
          "data": {
            "text/plain": [
              "['laila.aly', 'gmail.com']"
            ]
          },
          "metadata": {},
          "execution_count": 49
        }
      ]
    },
    {
      "cell_type": "markdown",
      "metadata": {
        "id": "9cN9W4bkM-vs"
      },
      "source": [
        "**MINI CHALLENGE #5:**\n",
        "- **Write a code that takes an input from a bank client asking him/her about their feedback regarding the service. The code should split the client input into words and print them on screen**\n"
      ]
    },
    {
      "cell_type": "code",
      "metadata": {
        "id": "cWKRpQ7WOSnu",
        "colab": {
          "base_uri": "https://localhost:8080/"
        },
        "outputId": "73d10a81-6df0-4772-e0ad-7f3b4ae795a9"
      },
      "source": [
        "feedback = input(\"Please tell me about your feedback: \")\n",
        "print(feedback.split())"
      ],
      "execution_count": null,
      "outputs": [
        {
          "output_type": "stream",
          "name": "stdout",
          "text": [
            "Please tell me about your feedback: I love your products\n",
            "['I', 'love', 'your', 'products']\n"
          ]
        }
      ]
    },
    {
      "cell_type": "code",
      "metadata": {
        "id": "6C17ix5xpr4p"
      },
      "source": [
        ""
      ],
      "execution_count": null,
      "outputs": []
    },
    {
      "cell_type": "markdown",
      "metadata": {
        "id": "EdyxRUooNz5m"
      },
      "source": [
        "**MINI CHALLENGE #6:**\n",
        "- **Write a code that prompts a user requesting his/her e-mail and then extracts the user first name (Note that the e-mail is in firstname.lastname@gmail.com**\n"
      ]
    },
    {
      "cell_type": "code",
      "metadata": {
        "id": "0P41ds4zNrKl",
        "colab": {
          "base_uri": "https://localhost:8080/"
        },
        "outputId": "2d60cc6d-6523-41ec-ac53-6b0e5b8e56e8"
      },
      "source": [
        "email = 'firstname.lastname@gmail.com'\n",
        "fullname = email.split('@')\n",
        "fname = fullname[0].split('.')\n",
        "print(fname[0])"
      ],
      "execution_count": null,
      "outputs": [
        {
          "output_type": "stream",
          "name": "stdout",
          "text": [
            "firstname\n"
          ]
        }
      ]
    },
    {
      "cell_type": "markdown",
      "metadata": {
        "id": "A0luXBRqEGai"
      },
      "source": [
        "# 5. TUPLES"
      ]
    },
    {
      "cell_type": "code",
      "metadata": {
        "id": "WNh06IuWENEw"
      },
      "source": [
        "# A tuple is a sequence of immutable Python objects. \n",
        "# Tuples are sequences, just like lists. \n",
        "# The differences between tuples and lists are, the tuples cannot be changed unlike lists and tuples use parentheses, whereas lists use square brackets."
      ],
      "execution_count": null,
      "outputs": []
    },
    {
      "cell_type": "code",
      "metadata": {
        "id": "U0fyXOJPENDi",
        "colab": {
          "base_uri": "https://localhost:8080/"
        },
        "outputId": "802a317f-2c57-4472-e032-271148ae37fc"
      },
      "source": [
        "tuple_1 = ('GOOG', 'APPL', 10, 15, 1992);\n",
        "tuple_2 = (450, 55, 977, 2100);\n",
        "type(tuple_1)\n"
      ],
      "execution_count": null,
      "outputs": [
        {
          "output_type": "execute_result",
          "data": {
            "text/plain": [
              "tuple"
            ]
          },
          "metadata": {},
          "execution_count": 57
        }
      ]
    },
    {
      "cell_type": "code",
      "metadata": {
        "id": "STfK4bAoEM_8",
        "colab": {
          "base_uri": "https://localhost:8080/"
        },
        "outputId": "16f1eb9e-3501-49b6-cab0-386a4a6966db"
      },
      "source": [
        "tuple_1"
      ],
      "execution_count": null,
      "outputs": [
        {
          "output_type": "execute_result",
          "data": {
            "text/plain": [
              "('GOOG', 'APPL', 10, 15, 1992)"
            ]
          },
          "metadata": {},
          "execution_count": 58
        }
      ]
    },
    {
      "cell_type": "code",
      "metadata": {
        "id": "my6d1Ou-EM-y",
        "colab": {
          "base_uri": "https://localhost:8080/",
          "height": 35
        },
        "outputId": "4626146d-ac7b-408b-c4c7-01ad5d4c3285"
      },
      "source": [
        "# Accessing elements in a tuple\n",
        "tuple_1[1]"
      ],
      "execution_count": null,
      "outputs": [
        {
          "output_type": "execute_result",
          "data": {
            "application/vnd.google.colaboratory.intrinsic+json": {
              "type": "string"
            },
            "text/plain": [
              "'APPL'"
            ]
          },
          "metadata": {},
          "execution_count": 59
        }
      ]
    },
    {
      "cell_type": "code",
      "metadata": {
        "id": "IIeC1e3qEWz6",
        "colab": {
          "base_uri": "https://localhost:8080/"
        },
        "outputId": "1da7256f-e7ca-4d4e-f245-86c67acb302b"
      },
      "source": [
        "# Tuple slicing\n",
        "tuple_1[1:3]"
      ],
      "execution_count": null,
      "outputs": [
        {
          "output_type": "execute_result",
          "data": {
            "text/plain": [
              "('APPL', 10)"
            ]
          },
          "metadata": {},
          "execution_count": 60
        }
      ]
    },
    {
      "cell_type": "code",
      "metadata": {
        "id": "o_yady6jEWwL",
        "colab": {
          "base_uri": "https://localhost:8080/",
          "height": 197
        },
        "outputId": "b430546a-6201-4c51-bc14-1a44b081970f"
      },
      "source": [
        "# Changing a vlue of a tuple does not work! \n",
        "# 'tuple' object does not support item assignment\n",
        "tuple_1[1] = 0"
      ],
      "execution_count": null,
      "outputs": [
        {
          "output_type": "error",
          "ename": "TypeError",
          "evalue": "ignored",
          "traceback": [
            "\u001b[0;31m---------------------------------------------------------------------------\u001b[0m",
            "\u001b[0;31mTypeError\u001b[0m                                 Traceback (most recent call last)",
            "\u001b[0;32m<ipython-input-61-0d93d25c1b58>\u001b[0m in \u001b[0;36m<module>\u001b[0;34m()\u001b[0m\n\u001b[1;32m      1\u001b[0m \u001b[0;31m# Changing a vlue of a tuple does not work!\u001b[0m\u001b[0;34m\u001b[0m\u001b[0;34m\u001b[0m\u001b[0;34m\u001b[0m\u001b[0m\n\u001b[1;32m      2\u001b[0m \u001b[0;31m# 'tuple' object does not support item assignment\u001b[0m\u001b[0;34m\u001b[0m\u001b[0;34m\u001b[0m\u001b[0;34m\u001b[0m\u001b[0m\n\u001b[0;32m----> 3\u001b[0;31m \u001b[0mtuple_1\u001b[0m\u001b[0;34m[\u001b[0m\u001b[0;36m1\u001b[0m\u001b[0;34m]\u001b[0m \u001b[0;34m=\u001b[0m \u001b[0;36m0\u001b[0m\u001b[0;34m\u001b[0m\u001b[0;34m\u001b[0m\u001b[0m\n\u001b[0m",
            "\u001b[0;31mTypeError\u001b[0m: 'tuple' object does not support item assignment"
          ]
        }
      ]
    },
    {
      "cell_type": "code",
      "metadata": {
        "id": "BCgEz7CdEWuP",
        "colab": {
          "base_uri": "https://localhost:8080/"
        },
        "outputId": "2b7ccd5f-1770-4c33-b989-dcfa453c07d7"
      },
      "source": [
        "# Create a New Tuple from existing Tuples\n",
        "tuple_3 = tuple_1 + tuple_2\n",
        "tuple_3"
      ],
      "execution_count": null,
      "outputs": [
        {
          "output_type": "execute_result",
          "data": {
            "text/plain": [
              "('GOOG', 'APPL', 10, 15, 1992, 450, 55, 977, 2100)"
            ]
          },
          "metadata": {},
          "execution_count": 62
        }
      ]
    },
    {
      "cell_type": "markdown",
      "metadata": {
        "id": "RmZ49NcKPKII"
      },
      "source": [
        "**MINI CHALLENGE #7:**\n",
        "- **Define a tuple with your first name, last name, age and the number of stocks in your portfolio. Find the length and type as well.**\n"
      ]
    },
    {
      "cell_type": "code",
      "metadata": {
        "id": "YZBTWVixwIkX"
      },
      "source": [
        "me = ('Palakorn','Kruakaew',36,1)"
      ],
      "execution_count": null,
      "outputs": []
    },
    {
      "cell_type": "code",
      "metadata": {
        "id": "xMKjCcejQtJI",
        "colab": {
          "base_uri": "https://localhost:8080/"
        },
        "outputId": "0e5c9909-a3b1-40c2-8511-dbe9e406e154"
      },
      "source": [
        "len(me)"
      ],
      "execution_count": null,
      "outputs": [
        {
          "output_type": "execute_result",
          "data": {
            "text/plain": [
              "4"
            ]
          },
          "metadata": {},
          "execution_count": 64
        }
      ]
    },
    {
      "cell_type": "code",
      "metadata": {
        "colab": {
          "base_uri": "https://localhost:8080/"
        },
        "id": "fxcTeEoA5FMU",
        "outputId": "5b03f350-94a6-4d86-a46b-eb60eed594db"
      },
      "source": [
        "type(me)"
      ],
      "execution_count": null,
      "outputs": [
        {
          "output_type": "execute_result",
          "data": {
            "text/plain": [
              "tuple"
            ]
          },
          "metadata": {},
          "execution_count": 65
        }
      ]
    },
    {
      "cell_type": "markdown",
      "metadata": {
        "id": "B7clmiIJEJF0"
      },
      "source": [
        "# 6. SETS "
      ]
    },
    {
      "cell_type": "code",
      "metadata": {
        "id": "wRAHn1SiEN2I",
        "colab": {
          "base_uri": "https://localhost:8080/"
        },
        "outputId": "29a0c00a-1704-4257-e67e-130537465ada"
      },
      "source": [
        "# A set is an unordered collection of items. Every element is unique (no duplicates).\n",
        "# A set is created by placing all the items (elements) inside curly braces {}, separated by comma or by using the built-in function set().\n",
        "# set of integers\n",
        "my_set = {'GOOG', 'APPL', 'T'}\n",
        "print(my_set)\n"
      ],
      "execution_count": null,
      "outputs": [
        {
          "output_type": "stream",
          "name": "stdout",
          "text": [
            "{'T', 'GOOG', 'APPL'}\n"
          ]
        }
      ]
    },
    {
      "cell_type": "code",
      "metadata": {
        "id": "4Y6cT3ykENzZ",
        "colab": {
          "base_uri": "https://localhost:8080/"
        },
        "outputId": "a60f9d02-f2de-4173-e167-18a57b9bb2ce"
      },
      "source": [
        "# set do not have duplicates\n",
        "my_set = {'GOOG', 'APPL', 'T','TSLA','T','AAPL'}\n",
        "print(my_set)"
      ],
      "execution_count": null,
      "outputs": [
        {
          "output_type": "stream",
          "name": "stdout",
          "text": [
            "{'T', 'APPL', 'GOOG', 'AAPL', 'TSLA'}\n"
          ]
        }
      ]
    },
    {
      "cell_type": "markdown",
      "metadata": {
        "id": "XjibM376ROGD"
      },
      "source": [
        "**MINI CHALLENGE #8:**\n",
        "- **Remove the duplicates from the following list:**\n",
        "\n",
        "\n",
        "```\n",
        "my_list = ['GOOG', 'APPL', 'T','TSLA','T','AAPL', 5, 6,5]\n",
        "```\n",
        "\n",
        "\n"
      ]
    },
    {
      "cell_type": "code",
      "metadata": {
        "id": "EpKrum8GSOuv"
      },
      "source": [
        "my_list = ['GOOG', 'APPL', 'T','TSLA','T','AAPL', 5, 6,5]"
      ],
      "execution_count": null,
      "outputs": []
    },
    {
      "cell_type": "code",
      "metadata": {
        "colab": {
          "base_uri": "https://localhost:8080/"
        },
        "id": "XbYRMDSd5ZNr",
        "outputId": "6534fa7f-f840-4972-d6c6-3ca9e1bd0dda"
      },
      "source": [
        "print(list(set(my_list)))"
      ],
      "execution_count": null,
      "outputs": [
        {
          "output_type": "stream",
          "name": "stdout",
          "text": [
            "['T', 'APPL', 5, 6, 'GOOG', 'AAPL', 'TSLA']\n"
          ]
        }
      ]
    },
    {
      "cell_type": "markdown",
      "metadata": {
        "id": "OlonkaQNGdsP"
      },
      "source": [
        "# MINI CHALLENGE SOLUTIONS"
      ]
    },
    {
      "cell_type": "markdown",
      "metadata": {
        "id": "bDojguHPUkBD"
      },
      "source": [
        "**MINI CHALLENGE #1 SOLUTION:** \n",
        "- **What will this code generate?**\n",
        "```\n",
        "stock_1_price = 20\n",
        "stock_2_price = 30\n",
        "print((stock_1_price < stock_2_price))\n",
        "print(stock_1_price == stock_2_price)\n",
        "```"
      ]
    },
    {
      "cell_type": "code",
      "metadata": {
        "id": "wRRbOc1ZUkBG",
        "colab": {
          "base_uri": "https://localhost:8080/",
          "height": 50
        },
        "outputId": "ffb51f81-618b-469c-9003-47060bbd993a"
      },
      "source": [
        "stock_1_price = 20\n",
        "stock_2_price = 30\n",
        "print((stock_1_price < stock_2_price))\n",
        "print(stock_1_price == stock_2_price)"
      ],
      "execution_count": null,
      "outputs": [
        {
          "output_type": "stream",
          "text": [
            "True\n",
            "False\n"
          ],
          "name": "stdout"
        }
      ]
    },
    {
      "cell_type": "markdown",
      "metadata": {
        "id": "T1ru2bTNHmoL"
      },
      "source": [
        "**MINI CHALLENGE #2 SOLUTION:**\n",
        "- **Print the first, second and last element in the list**\n",
        "- **Print all elements in the list, first 3 elements, and last three elements**\n",
        "\n",
        "```\n",
        "stocks = [\"GOOG\", \"TSLA\", \"AAPL\", \"T\", \"SP500\", \"BTC\", \"EUR/USD\"]\n",
        "```\n",
        "\n"
      ]
    },
    {
      "cell_type": "code",
      "metadata": {
        "id": "q9ayDKUZGlrZ",
        "colab": {
          "base_uri": "https://localhost:8080/",
          "height": 68
        },
        "outputId": "2e7781e8-39ac-4da1-e472-e64b08f5017e"
      },
      "source": [
        "stocks = [\"GOOG\", \"TSLA\", \"AAPL\", \"T\", \"SP500\", \"BTC\", \"EUR/USD\"]\n",
        "print(stocks[0])\n",
        "print(stocks[1])\n",
        "print(stocks[-1])"
      ],
      "execution_count": null,
      "outputs": [
        {
          "output_type": "stream",
          "text": [
            "GOOG\n",
            "TSLA\n",
            "EUR/USD\n"
          ],
          "name": "stdout"
        }
      ]
    },
    {
      "cell_type": "code",
      "metadata": {
        "id": "Pb0C5-B_cl9f",
        "colab": {
          "base_uri": "https://localhost:8080/",
          "height": 68
        },
        "outputId": "648a28f2-19e2-4170-daeb-39c79822cf2c"
      },
      "source": [
        "print(stocks[:])\n",
        "print(stocks[0:3])\n",
        "print(stocks[4:])"
      ],
      "execution_count": null,
      "outputs": [
        {
          "output_type": "stream",
          "text": [
            "['GOOG', 'TSLA', 'AAPL', 'T', 'SP500', 'BTC', 'EUR/USD']\n",
            "['GOOG', 'TSLA', 'AAPL']\n",
            "['SP500', 'BTC', 'EUR/USD']\n"
          ],
          "name": "stdout"
        }
      ]
    },
    {
      "cell_type": "markdown",
      "metadata": {
        "id": "UkLWVRadJqEx"
      },
      "source": [
        "**MINI CHALLENGE #3 SOLUTION:** \n",
        "- **Print GOOG**\n",
        "- **Print AAPL, GOOG, TSLA** \n",
        "- **Print T with two different ways**\n",
        "\n",
        "```\n",
        "my_list = [\"SP500\", [\"AAPL\", \"GOOG\", \"TSLA\"], \"BTC\", \"T\"]\n",
        "```\n"
      ]
    },
    {
      "cell_type": "code",
      "metadata": {
        "id": "ehC3hFiaJ1tI"
      },
      "source": [
        "my_list = [\"SP500\", [\"AAPL\", \"GOOG\", \"TSLA\"], \"BTC\", \"T\"]"
      ],
      "execution_count": null,
      "outputs": []
    },
    {
      "cell_type": "code",
      "metadata": {
        "id": "gbsBgd3IHtDl",
        "colab": {
          "base_uri": "https://localhost:8080/",
          "height": 34
        },
        "outputId": "310efabf-6f26-49bc-dae0-8f3d6fbaf88b"
      },
      "source": [
        "print(my_list[1][1])"
      ],
      "execution_count": null,
      "outputs": [
        {
          "output_type": "stream",
          "text": [
            "GOOG\n"
          ],
          "name": "stdout"
        }
      ]
    },
    {
      "cell_type": "code",
      "metadata": {
        "id": "0jim9gFbJudm",
        "colab": {
          "base_uri": "https://localhost:8080/",
          "height": 34
        },
        "outputId": "c5de8f72-e9d8-4184-ad6b-028621b98d3c"
      },
      "source": [
        "print(my_list[1])"
      ],
      "execution_count": null,
      "outputs": [
        {
          "output_type": "stream",
          "text": [
            "['AAPL', 'GOOG', 'TSLA']\n"
          ],
          "name": "stdout"
        }
      ]
    },
    {
      "cell_type": "code",
      "metadata": {
        "id": "ze7mvHDaJucK",
        "colab": {
          "base_uri": "https://localhost:8080/",
          "height": 34
        },
        "outputId": "35344c26-3fdf-4ef1-8fce-3c0b1d6c7f5f"
      },
      "source": [
        "print(my_list[3])"
      ],
      "execution_count": null,
      "outputs": [
        {
          "output_type": "stream",
          "text": [
            "T\n"
          ],
          "name": "stdout"
        }
      ]
    },
    {
      "cell_type": "code",
      "metadata": {
        "id": "xrSiB-jqJuYA",
        "colab": {
          "base_uri": "https://localhost:8080/",
          "height": 34
        },
        "outputId": "2fd723d5-a04d-4de8-c070-d23851e13d84"
      },
      "source": [
        "print(my_list[-1])"
      ],
      "execution_count": null,
      "outputs": [
        {
          "output_type": "stream",
          "text": [
            "T\n"
          ],
          "name": "stdout"
        }
      ]
    },
    {
      "cell_type": "markdown",
      "metadata": {
        "id": "R3Wx0fsDMJN5"
      },
      "source": [
        "**MINI CHALLENGE #4 SOLUTION:**\n",
        "- **Create a dictionary with 3 of your favourite stocks and their prices** "
      ]
    },
    {
      "cell_type": "code",
      "metadata": {
        "id": "ySbAAjGkMJ7y",
        "colab": {
          "base_uri": "https://localhost:8080/",
          "height": 34
        },
        "outputId": "1ebb4abe-e06e-43c2-b2bd-c2d832bf59db"
      },
      "source": [
        "stocks = {\"SP500\": 3000, \n",
        "          \"AAPL\": 400,\n",
        "          \"TSLA\": 2200}\n",
        "print(stocks)\n"
      ],
      "execution_count": null,
      "outputs": [
        {
          "output_type": "stream",
          "text": [
            "{'SP500': 3000, 'AAPL': 400, 'TSLA': 2200}\n"
          ],
          "name": "stdout"
        }
      ]
    },
    {
      "cell_type": "markdown",
      "metadata": {
        "id": "_4QByu-tNjpA"
      },
      "source": [
        "**MINI CHALLENGE #5 SOLUTION:**\n",
        "- **Write a code that takes an input from a bank client asking him/her about their feedback regarding the service. The code should split the client input into words and print them on screen**\n"
      ]
    },
    {
      "cell_type": "code",
      "metadata": {
        "id": "nLWrLgB-NjpB",
        "colab": {
          "base_uri": "https://localhost:8080/",
          "height": 50
        },
        "outputId": "3f0f1c9f-7ed4-4898-af9d-09272d1ed727"
      },
      "source": [
        "my_string = str(input(\"What did we do at the bank today? are you satisfied with the service\"))\n",
        "words = my_string.split(\" \")\n",
        "print(\"Here are the list of words you entered:\", words)"
      ],
      "execution_count": null,
      "outputs": [
        {
          "output_type": "stream",
          "text": [
            "What did we do at the bank today? are you satisfied with the serviceMy experience today was positive, the service is perfect! great job everyone\n",
            "Here are the list of words you entered: ['My', 'experience', 'today', 'was', 'positive,', 'the', 'service', 'is', 'perfect!', 'great', 'job', 'everyone']\n"
          ],
          "name": "stdout"
        }
      ]
    },
    {
      "cell_type": "markdown",
      "metadata": {
        "id": "bFCp0wXKOqmz"
      },
      "source": [
        "**MINI CHALLENGE #6 SOLUTION:**\n",
        "- **Write a code that prompts a user requesting his/her e-mail and then extracts the user first name (Note that the e-mail is in firstname.lastname@gmail.com**\n"
      ]
    },
    {
      "cell_type": "code",
      "metadata": {
        "id": "mtgJJ3FaOqm0",
        "colab": {
          "base_uri": "https://localhost:8080/",
          "height": 50
        },
        "outputId": "6b9e8ef7-6da5-4d23-c248-064b96eaed96"
      },
      "source": [
        "input_str = input(\"Welcome to the bank, please enter your e-mail address:\")\n",
        "out_str = input_str.split('@')\n",
        "out_str = out_str[0].split('.')\n",
        "print(out_str[0])"
      ],
      "execution_count": null,
      "outputs": [
        {
          "output_type": "stream",
          "text": [
            "Enter your e-mail address:ryan.ahmed@yahoo.com\n",
            "ryan\n"
          ],
          "name": "stdout"
        }
      ]
    },
    {
      "cell_type": "markdown",
      "metadata": {
        "id": "L0OUSq6pQhNI"
      },
      "source": [
        "**MINI CHALLENGE #7 SOLUTION:**\n",
        "- **Define a tuple with your first name, last name, age and the number of stocks in your portfolio. Find the length and type as well.**\n"
      ]
    },
    {
      "cell_type": "code",
      "metadata": {
        "id": "aACA3yR3QhNJ",
        "colab": {
          "base_uri": "https://localhost:8080/",
          "height": 34
        },
        "outputId": "03b71595-0746-40b0-bc2d-a62014129a6a"
      },
      "source": [
        "my_tuple = (\"Ryan\", \"ahmed\", 25, 10)\n",
        "print(my_tuple)"
      ],
      "execution_count": null,
      "outputs": [
        {
          "output_type": "stream",
          "text": [
            "('Ryan', 'ahmed', 25, 10)\n"
          ],
          "name": "stdout"
        }
      ]
    },
    {
      "cell_type": "code",
      "metadata": {
        "id": "ek6Lj_1YQhNN",
        "colab": {
          "base_uri": "https://localhost:8080/",
          "height": 34
        },
        "outputId": "9139a966-4bfc-4664-a79c-360052d3dbd1"
      },
      "source": [
        "len(my_tuple)"
      ],
      "execution_count": null,
      "outputs": [
        {
          "output_type": "execute_result",
          "data": {
            "text/plain": [
              "4"
            ]
          },
          "metadata": {
            "tags": []
          },
          "execution_count": 85
        }
      ]
    },
    {
      "cell_type": "code",
      "metadata": {
        "id": "wjbkGK-mQhNS",
        "colab": {
          "base_uri": "https://localhost:8080/",
          "height": 34
        },
        "outputId": "0f5292d1-d7d9-4825-edab-86821df5332c"
      },
      "source": [
        "type(my_tuple)"
      ],
      "execution_count": null,
      "outputs": [
        {
          "output_type": "execute_result",
          "data": {
            "text/plain": [
              "tuple"
            ]
          },
          "metadata": {
            "tags": []
          },
          "execution_count": 86
        }
      ]
    },
    {
      "cell_type": "markdown",
      "metadata": {
        "id": "RrBoe1NJRmBi"
      },
      "source": [
        "**MINI CHALLENGE #8 SOLUTION:**\n",
        "- **Remove the duplicates from the following list:**\n",
        "\n",
        "\n",
        "```\n",
        "my_list = ['GOOG', 'APPL', 'T','TSLA','T','AAPL', 5, 6,5]\n",
        "```\n",
        "\n",
        "\n"
      ]
    },
    {
      "cell_type": "code",
      "metadata": {
        "id": "e3rGkHmnRnPf",
        "colab": {
          "base_uri": "https://localhost:8080/",
          "height": 34
        },
        "outputId": "559f6ada-be05-4271-e1f6-0f7004694be5"
      },
      "source": [
        "my_list = ['GOOG', 'APPL', 'T','TSLA','T','AAPL', 5, 6, 5]\n",
        "out_list = list(set(my_list))\n",
        "print(out_list)"
      ],
      "execution_count": null,
      "outputs": [
        {
          "output_type": "stream",
          "text": [
            "[5, 6, 'T', 'APPL', 'GOOG', 'TSLA', 'AAPL']\n"
          ],
          "name": "stdout"
        }
      ]
    },
    {
      "cell_type": "code",
      "metadata": {
        "id": "Cwtyay_9UiZD"
      },
      "source": [
        ""
      ],
      "execution_count": null,
      "outputs": []
    }
  ]
}